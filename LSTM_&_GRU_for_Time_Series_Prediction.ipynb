{
  "nbformat": 4,
  "nbformat_minor": 0,
  "metadata": {
    "colab": {
      "provenance": [],
      "authorship_tag": "ABX9TyNmesfVDvAgf1YQK2u/MHNG",
      "include_colab_link": true
    },
    "kernelspec": {
      "name": "python3",
      "display_name": "Python 3"
    },
    "language_info": {
      "name": "python"
    }
  },
  "cells": [
    {
      "cell_type": "markdown",
      "metadata": {
        "id": "view-in-github",
        "colab_type": "text"
      },
      "source": [
        "<a href=\"https://colab.research.google.com/github/hsallrounder/Cognitive-Analytics-Lab/blob/main/LSTM_%26_GRU_for_Time_Series_Prediction.ipynb\" target=\"_parent\"><img src=\"https://colab.research.google.com/assets/colab-badge.svg\" alt=\"Open In Colab\"/></a>"
      ]
    },
    {
      "cell_type": "code",
      "execution_count": 17,
      "metadata": {
        "id": "er3PeHqhXdoK"
      },
      "outputs": [],
      "source": [
        "import numpy as np\n",
        "import pandas as pd\n",
        "import seaborn as sns\n",
        "import matplotlib.pyplot as plt\n",
        "from sklearn.preprocessing import MinMaxScaler\n",
        "from keras.models import Sequential\n",
        "from keras.layers import LSTM, GRU, Dense, Dropout\n",
        "from keras.optimizers import Adam\n",
        "from keras.callbacks import EarlyStopping"
      ]
    },
    {
      "cell_type": "code",
      "source": [
        "data = sns.load_dataset(\"flights\")"
      ],
      "metadata": {
        "id": "9KOJueZWXj8p"
      },
      "execution_count": 18,
      "outputs": []
    },
    {
      "cell_type": "code",
      "source": [
        "data.head()"
      ],
      "metadata": {
        "colab": {
          "base_uri": "https://localhost:8080/",
          "height": 206
        },
        "id": "AhT8YjJRh1je",
        "outputId": "42609f49-b10d-41d1-8ca0-7bc2dfcdb819"
      },
      "execution_count": 19,
      "outputs": [
        {
          "output_type": "execute_result",
          "data": {
            "text/plain": [
              "   year month  passengers\n",
              "0  1949   Jan         112\n",
              "1  1949   Feb         118\n",
              "2  1949   Mar         132\n",
              "3  1949   Apr         129\n",
              "4  1949   May         121"
            ],
            "text/html": [
              "\n",
              "  <div id=\"df-22fd04b7-025c-4139-973b-6fcdc8aee12a\" class=\"colab-df-container\">\n",
              "    <div>\n",
              "<style scoped>\n",
              "    .dataframe tbody tr th:only-of-type {\n",
              "        vertical-align: middle;\n",
              "    }\n",
              "\n",
              "    .dataframe tbody tr th {\n",
              "        vertical-align: top;\n",
              "    }\n",
              "\n",
              "    .dataframe thead th {\n",
              "        text-align: right;\n",
              "    }\n",
              "</style>\n",
              "<table border=\"1\" class=\"dataframe\">\n",
              "  <thead>\n",
              "    <tr style=\"text-align: right;\">\n",
              "      <th></th>\n",
              "      <th>year</th>\n",
              "      <th>month</th>\n",
              "      <th>passengers</th>\n",
              "    </tr>\n",
              "  </thead>\n",
              "  <tbody>\n",
              "    <tr>\n",
              "      <th>0</th>\n",
              "      <td>1949</td>\n",
              "      <td>Jan</td>\n",
              "      <td>112</td>\n",
              "    </tr>\n",
              "    <tr>\n",
              "      <th>1</th>\n",
              "      <td>1949</td>\n",
              "      <td>Feb</td>\n",
              "      <td>118</td>\n",
              "    </tr>\n",
              "    <tr>\n",
              "      <th>2</th>\n",
              "      <td>1949</td>\n",
              "      <td>Mar</td>\n",
              "      <td>132</td>\n",
              "    </tr>\n",
              "    <tr>\n",
              "      <th>3</th>\n",
              "      <td>1949</td>\n",
              "      <td>Apr</td>\n",
              "      <td>129</td>\n",
              "    </tr>\n",
              "    <tr>\n",
              "      <th>4</th>\n",
              "      <td>1949</td>\n",
              "      <td>May</td>\n",
              "      <td>121</td>\n",
              "    </tr>\n",
              "  </tbody>\n",
              "</table>\n",
              "</div>\n",
              "    <div class=\"colab-df-buttons\">\n",
              "\n",
              "  <div class=\"colab-df-container\">\n",
              "    <button class=\"colab-df-convert\" onclick=\"convertToInteractive('df-22fd04b7-025c-4139-973b-6fcdc8aee12a')\"\n",
              "            title=\"Convert this dataframe to an interactive table.\"\n",
              "            style=\"display:none;\">\n",
              "\n",
              "  <svg xmlns=\"http://www.w3.org/2000/svg\" height=\"24px\" viewBox=\"0 -960 960 960\">\n",
              "    <path d=\"M120-120v-720h720v720H120Zm60-500h600v-160H180v160Zm220 220h160v-160H400v160Zm0 220h160v-160H400v160ZM180-400h160v-160H180v160Zm440 0h160v-160H620v160ZM180-180h160v-160H180v160Zm440 0h160v-160H620v160Z\"/>\n",
              "  </svg>\n",
              "    </button>\n",
              "\n",
              "  <style>\n",
              "    .colab-df-container {\n",
              "      display:flex;\n",
              "      gap: 12px;\n",
              "    }\n",
              "\n",
              "    .colab-df-convert {\n",
              "      background-color: #E8F0FE;\n",
              "      border: none;\n",
              "      border-radius: 50%;\n",
              "      cursor: pointer;\n",
              "      display: none;\n",
              "      fill: #1967D2;\n",
              "      height: 32px;\n",
              "      padding: 0 0 0 0;\n",
              "      width: 32px;\n",
              "    }\n",
              "\n",
              "    .colab-df-convert:hover {\n",
              "      background-color: #E2EBFA;\n",
              "      box-shadow: 0px 1px 2px rgba(60, 64, 67, 0.3), 0px 1px 3px 1px rgba(60, 64, 67, 0.15);\n",
              "      fill: #174EA6;\n",
              "    }\n",
              "\n",
              "    .colab-df-buttons div {\n",
              "      margin-bottom: 4px;\n",
              "    }\n",
              "\n",
              "    [theme=dark] .colab-df-convert {\n",
              "      background-color: #3B4455;\n",
              "      fill: #D2E3FC;\n",
              "    }\n",
              "\n",
              "    [theme=dark] .colab-df-convert:hover {\n",
              "      background-color: #434B5C;\n",
              "      box-shadow: 0px 1px 3px 1px rgba(0, 0, 0, 0.15);\n",
              "      filter: drop-shadow(0px 1px 2px rgba(0, 0, 0, 0.3));\n",
              "      fill: #FFFFFF;\n",
              "    }\n",
              "  </style>\n",
              "\n",
              "    <script>\n",
              "      const buttonEl =\n",
              "        document.querySelector('#df-22fd04b7-025c-4139-973b-6fcdc8aee12a button.colab-df-convert');\n",
              "      buttonEl.style.display =\n",
              "        google.colab.kernel.accessAllowed ? 'block' : 'none';\n",
              "\n",
              "      async function convertToInteractive(key) {\n",
              "        const element = document.querySelector('#df-22fd04b7-025c-4139-973b-6fcdc8aee12a');\n",
              "        const dataTable =\n",
              "          await google.colab.kernel.invokeFunction('convertToInteractive',\n",
              "                                                    [key], {});\n",
              "        if (!dataTable) return;\n",
              "\n",
              "        const docLinkHtml = 'Like what you see? Visit the ' +\n",
              "          '<a target=\"_blank\" href=https://colab.research.google.com/notebooks/data_table.ipynb>data table notebook</a>'\n",
              "          + ' to learn more about interactive tables.';\n",
              "        element.innerHTML = '';\n",
              "        dataTable['output_type'] = 'display_data';\n",
              "        await google.colab.output.renderOutput(dataTable, element);\n",
              "        const docLink = document.createElement('div');\n",
              "        docLink.innerHTML = docLinkHtml;\n",
              "        element.appendChild(docLink);\n",
              "      }\n",
              "    </script>\n",
              "  </div>\n",
              "\n",
              "\n",
              "<div id=\"df-049e2827-c3b8-4ccf-90ba-461bcd1f6dc2\">\n",
              "  <button class=\"colab-df-quickchart\" onclick=\"quickchart('df-049e2827-c3b8-4ccf-90ba-461bcd1f6dc2')\"\n",
              "            title=\"Suggest charts.\"\n",
              "            style=\"display:none;\">\n",
              "\n",
              "<svg xmlns=\"http://www.w3.org/2000/svg\" height=\"24px\"viewBox=\"0 0 24 24\"\n",
              "     width=\"24px\">\n",
              "    <g>\n",
              "        <path d=\"M19 3H5c-1.1 0-2 .9-2 2v14c0 1.1.9 2 2 2h14c1.1 0 2-.9 2-2V5c0-1.1-.9-2-2-2zM9 17H7v-7h2v7zm4 0h-2V7h2v10zm4 0h-2v-4h2v4z\"/>\n",
              "    </g>\n",
              "</svg>\n",
              "  </button>\n",
              "\n",
              "<style>\n",
              "  .colab-df-quickchart {\n",
              "      --bg-color: #E8F0FE;\n",
              "      --fill-color: #1967D2;\n",
              "      --hover-bg-color: #E2EBFA;\n",
              "      --hover-fill-color: #174EA6;\n",
              "      --disabled-fill-color: #AAA;\n",
              "      --disabled-bg-color: #DDD;\n",
              "  }\n",
              "\n",
              "  [theme=dark] .colab-df-quickchart {\n",
              "      --bg-color: #3B4455;\n",
              "      --fill-color: #D2E3FC;\n",
              "      --hover-bg-color: #434B5C;\n",
              "      --hover-fill-color: #FFFFFF;\n",
              "      --disabled-bg-color: #3B4455;\n",
              "      --disabled-fill-color: #666;\n",
              "  }\n",
              "\n",
              "  .colab-df-quickchart {\n",
              "    background-color: var(--bg-color);\n",
              "    border: none;\n",
              "    border-radius: 50%;\n",
              "    cursor: pointer;\n",
              "    display: none;\n",
              "    fill: var(--fill-color);\n",
              "    height: 32px;\n",
              "    padding: 0;\n",
              "    width: 32px;\n",
              "  }\n",
              "\n",
              "  .colab-df-quickchart:hover {\n",
              "    background-color: var(--hover-bg-color);\n",
              "    box-shadow: 0 1px 2px rgba(60, 64, 67, 0.3), 0 1px 3px 1px rgba(60, 64, 67, 0.15);\n",
              "    fill: var(--button-hover-fill-color);\n",
              "  }\n",
              "\n",
              "  .colab-df-quickchart-complete:disabled,\n",
              "  .colab-df-quickchart-complete:disabled:hover {\n",
              "    background-color: var(--disabled-bg-color);\n",
              "    fill: var(--disabled-fill-color);\n",
              "    box-shadow: none;\n",
              "  }\n",
              "\n",
              "  .colab-df-spinner {\n",
              "    border: 2px solid var(--fill-color);\n",
              "    border-color: transparent;\n",
              "    border-bottom-color: var(--fill-color);\n",
              "    animation:\n",
              "      spin 1s steps(1) infinite;\n",
              "  }\n",
              "\n",
              "  @keyframes spin {\n",
              "    0% {\n",
              "      border-color: transparent;\n",
              "      border-bottom-color: var(--fill-color);\n",
              "      border-left-color: var(--fill-color);\n",
              "    }\n",
              "    20% {\n",
              "      border-color: transparent;\n",
              "      border-left-color: var(--fill-color);\n",
              "      border-top-color: var(--fill-color);\n",
              "    }\n",
              "    30% {\n",
              "      border-color: transparent;\n",
              "      border-left-color: var(--fill-color);\n",
              "      border-top-color: var(--fill-color);\n",
              "      border-right-color: var(--fill-color);\n",
              "    }\n",
              "    40% {\n",
              "      border-color: transparent;\n",
              "      border-right-color: var(--fill-color);\n",
              "      border-top-color: var(--fill-color);\n",
              "    }\n",
              "    60% {\n",
              "      border-color: transparent;\n",
              "      border-right-color: var(--fill-color);\n",
              "    }\n",
              "    80% {\n",
              "      border-color: transparent;\n",
              "      border-right-color: var(--fill-color);\n",
              "      border-bottom-color: var(--fill-color);\n",
              "    }\n",
              "    90% {\n",
              "      border-color: transparent;\n",
              "      border-bottom-color: var(--fill-color);\n",
              "    }\n",
              "  }\n",
              "</style>\n",
              "\n",
              "  <script>\n",
              "    async function quickchart(key) {\n",
              "      const quickchartButtonEl =\n",
              "        document.querySelector('#' + key + ' button');\n",
              "      quickchartButtonEl.disabled = true;  // To prevent multiple clicks.\n",
              "      quickchartButtonEl.classList.add('colab-df-spinner');\n",
              "      try {\n",
              "        const charts = await google.colab.kernel.invokeFunction(\n",
              "            'suggestCharts', [key], {});\n",
              "      } catch (error) {\n",
              "        console.error('Error during call to suggestCharts:', error);\n",
              "      }\n",
              "      quickchartButtonEl.classList.remove('colab-df-spinner');\n",
              "      quickchartButtonEl.classList.add('colab-df-quickchart-complete');\n",
              "    }\n",
              "    (() => {\n",
              "      let quickchartButtonEl =\n",
              "        document.querySelector('#df-049e2827-c3b8-4ccf-90ba-461bcd1f6dc2 button');\n",
              "      quickchartButtonEl.style.display =\n",
              "        google.colab.kernel.accessAllowed ? 'block' : 'none';\n",
              "    })();\n",
              "  </script>\n",
              "</div>\n",
              "    </div>\n",
              "  </div>\n"
            ]
          },
          "metadata": {},
          "execution_count": 19
        }
      ]
    },
    {
      "cell_type": "code",
      "source": [
        "ts_data = data['passengers'].values.reshape(-1, 1)"
      ],
      "metadata": {
        "id": "t8gwt78jXuJ9"
      },
      "execution_count": 20,
      "outputs": []
    },
    {
      "cell_type": "code",
      "source": [
        "ts_data"
      ],
      "metadata": {
        "colab": {
          "base_uri": "https://localhost:8080/"
        },
        "id": "V4Uw8N2JYZvi",
        "outputId": "a9c3b4d3-519d-47ef-e7f9-e73e330ab1af"
      },
      "execution_count": 21,
      "outputs": [
        {
          "output_type": "execute_result",
          "data": {
            "text/plain": [
              "array([[112],\n",
              "       [118],\n",
              "       [132],\n",
              "       [129],\n",
              "       [121],\n",
              "       [135],\n",
              "       [148],\n",
              "       [148],\n",
              "       [136],\n",
              "       [119],\n",
              "       [104],\n",
              "       [118],\n",
              "       [115],\n",
              "       [126],\n",
              "       [141],\n",
              "       [135],\n",
              "       [125],\n",
              "       [149],\n",
              "       [170],\n",
              "       [170],\n",
              "       [158],\n",
              "       [133],\n",
              "       [114],\n",
              "       [140],\n",
              "       [145],\n",
              "       [150],\n",
              "       [178],\n",
              "       [163],\n",
              "       [172],\n",
              "       [178],\n",
              "       [199],\n",
              "       [199],\n",
              "       [184],\n",
              "       [162],\n",
              "       [146],\n",
              "       [166],\n",
              "       [171],\n",
              "       [180],\n",
              "       [193],\n",
              "       [181],\n",
              "       [183],\n",
              "       [218],\n",
              "       [230],\n",
              "       [242],\n",
              "       [209],\n",
              "       [191],\n",
              "       [172],\n",
              "       [194],\n",
              "       [196],\n",
              "       [196],\n",
              "       [236],\n",
              "       [235],\n",
              "       [229],\n",
              "       [243],\n",
              "       [264],\n",
              "       [272],\n",
              "       [237],\n",
              "       [211],\n",
              "       [180],\n",
              "       [201],\n",
              "       [204],\n",
              "       [188],\n",
              "       [235],\n",
              "       [227],\n",
              "       [234],\n",
              "       [264],\n",
              "       [302],\n",
              "       [293],\n",
              "       [259],\n",
              "       [229],\n",
              "       [203],\n",
              "       [229],\n",
              "       [242],\n",
              "       [233],\n",
              "       [267],\n",
              "       [269],\n",
              "       [270],\n",
              "       [315],\n",
              "       [364],\n",
              "       [347],\n",
              "       [312],\n",
              "       [274],\n",
              "       [237],\n",
              "       [278],\n",
              "       [284],\n",
              "       [277],\n",
              "       [317],\n",
              "       [313],\n",
              "       [318],\n",
              "       [374],\n",
              "       [413],\n",
              "       [405],\n",
              "       [355],\n",
              "       [306],\n",
              "       [271],\n",
              "       [306],\n",
              "       [315],\n",
              "       [301],\n",
              "       [356],\n",
              "       [348],\n",
              "       [355],\n",
              "       [422],\n",
              "       [465],\n",
              "       [467],\n",
              "       [404],\n",
              "       [347],\n",
              "       [305],\n",
              "       [336],\n",
              "       [340],\n",
              "       [318],\n",
              "       [362],\n",
              "       [348],\n",
              "       [363],\n",
              "       [435],\n",
              "       [491],\n",
              "       [505],\n",
              "       [404],\n",
              "       [359],\n",
              "       [310],\n",
              "       [337],\n",
              "       [360],\n",
              "       [342],\n",
              "       [406],\n",
              "       [396],\n",
              "       [420],\n",
              "       [472],\n",
              "       [548],\n",
              "       [559],\n",
              "       [463],\n",
              "       [407],\n",
              "       [362],\n",
              "       [405],\n",
              "       [417],\n",
              "       [391],\n",
              "       [419],\n",
              "       [461],\n",
              "       [472],\n",
              "       [535],\n",
              "       [622],\n",
              "       [606],\n",
              "       [508],\n",
              "       [461],\n",
              "       [390],\n",
              "       [432]])"
            ]
          },
          "metadata": {},
          "execution_count": 21
        }
      ]
    },
    {
      "cell_type": "code",
      "source": [
        "scaler = MinMaxScaler()\n",
        "ts_data_normalized = scaler.fit_transform(ts_data)"
      ],
      "metadata": {
        "id": "NoUWYxDngDuG"
      },
      "execution_count": 22,
      "outputs": []
    },
    {
      "cell_type": "code",
      "source": [
        "train_size = int(len(ts_data_normalized) * 0.7)\n",
        "train_data = ts_data_normalized[:train_size]\n",
        "test_data = ts_data_normalized[train_size:]"
      ],
      "metadata": {
        "id": "JACvEP0HgGee"
      },
      "execution_count": 23,
      "outputs": []
    },
    {
      "cell_type": "code",
      "source": [
        "def create_sequences(data, seq_length):\n",
        "    X, y = [], []\n",
        "    for i in range(len(data) - seq_length):\n",
        "        X.append(data[i:i+seq_length])\n",
        "        y.append(data[i+seq_length])\n",
        "    return np.array(X), np.array(y)"
      ],
      "metadata": {
        "id": "NgZmDvSygNSP"
      },
      "execution_count": 24,
      "outputs": []
    },
    {
      "cell_type": "code",
      "source": [
        "seq_length = 12\n",
        "X_train, y_train = create_sequences(train_data, seq_length)\n",
        "X_test, y_test = create_sequences(test_data, seq_length)"
      ],
      "metadata": {
        "id": "_doWZfHugSYX"
      },
      "execution_count": 25,
      "outputs": []
    },
    {
      "cell_type": "code",
      "source": [
        "lstm_model = Sequential([\n",
        "    LSTM(units=128, activation='relu', input_shape=(seq_length, 1), return_sequences=True),\n",
        "    Dropout(0.2),\n",
        "    LSTM(units=64, activation='relu'),\n",
        "    Dense(units=1)\n",
        "])\n",
        "lstm_model.compile(optimizer=Adam(learning_rate=0.001), loss='mean_squared_error')\n",
        "early_stopping = EarlyStopping(patience=10, restore_best_weights=True)\n",
        "lstm_model.fit(X_train, y_train, epochs=100, batch_size=32, validation_data=(X_test, y_test), callbacks=[early_stopping])"
      ],
      "metadata": {
        "colab": {
          "base_uri": "https://localhost:8080/"
        },
        "id": "GBlt9CfXgUC_",
        "outputId": "f1f982ec-339f-4c08-98f7-95e2d015c103"
      },
      "execution_count": 26,
      "outputs": [
        {
          "output_type": "stream",
          "name": "stdout",
          "text": [
            "Epoch 1/100\n",
            "3/3 [==============================] - 3s 240ms/step - loss: 0.0735 - val_loss: 0.3608\n",
            "Epoch 2/100\n",
            "3/3 [==============================] - 0s 40ms/step - loss: 0.0530 - val_loss: 0.2727\n",
            "Epoch 3/100\n",
            "3/3 [==============================] - 0s 54ms/step - loss: 0.0338 - val_loss: 0.1758\n",
            "Epoch 4/100\n",
            "3/3 [==============================] - 0s 67ms/step - loss: 0.0157 - val_loss: 0.0667\n",
            "Epoch 5/100\n",
            "3/3 [==============================] - 0s 71ms/step - loss: 0.0103 - val_loss: 0.0212\n",
            "Epoch 6/100\n",
            "3/3 [==============================] - 0s 69ms/step - loss: 0.0155 - val_loss: 0.0263\n",
            "Epoch 7/100\n",
            "3/3 [==============================] - 0s 65ms/step - loss: 0.0097 - val_loss: 0.0521\n",
            "Epoch 8/100\n",
            "3/3 [==============================] - 0s 66ms/step - loss: 0.0082 - val_loss: 0.0765\n",
            "Epoch 9/100\n",
            "3/3 [==============================] - 0s 77ms/step - loss: 0.0093 - val_loss: 0.0758\n",
            "Epoch 10/100\n",
            "3/3 [==============================] - 0s 78ms/step - loss: 0.0085 - val_loss: 0.0571\n",
            "Epoch 11/100\n",
            "3/3 [==============================] - 0s 76ms/step - loss: 0.0072 - val_loss: 0.0335\n",
            "Epoch 12/100\n",
            "3/3 [==============================] - 0s 68ms/step - loss: 0.0059 - val_loss: 0.0232\n",
            "Epoch 13/100\n",
            "3/3 [==============================] - 0s 69ms/step - loss: 0.0060 - val_loss: 0.0224\n",
            "Epoch 14/100\n",
            "3/3 [==============================] - 0s 75ms/step - loss: 0.0050 - val_loss: 0.0242\n",
            "Epoch 15/100\n",
            "3/3 [==============================] - 0s 68ms/step - loss: 0.0050 - val_loss: 0.0246\n"
          ]
        },
        {
          "output_type": "execute_result",
          "data": {
            "text/plain": [
              "<keras.src.callbacks.History at 0x7e6826fd5780>"
            ]
          },
          "metadata": {},
          "execution_count": 26
        }
      ]
    },
    {
      "cell_type": "code",
      "source": [
        "gru_model = Sequential([\n",
        "    GRU(units=128, activation='relu', input_shape=(seq_length, 1), return_sequences=True),\n",
        "    Dropout(0.2),\n",
        "    GRU(units=64, activation='relu'),\n",
        "    Dense(units=1)\n",
        "])\n",
        "gru_model.compile(optimizer=Adam(learning_rate=0.001), loss='mean_squared_error')\n",
        "early_stopping = EarlyStopping(patience=10, restore_best_weights=True)\n",
        "gru_model.fit(X_train, y_train, epochs=100, batch_size=32, validation_data=(X_test, y_test), callbacks=[early_stopping])"
      ],
      "metadata": {
        "colab": {
          "base_uri": "https://localhost:8080/"
        },
        "id": "Y8ky91SPgWz2",
        "outputId": "5d8fc1f1-58e8-47f5-d61c-0cafb6dca43d"
      },
      "execution_count": 27,
      "outputs": [
        {
          "output_type": "stream",
          "name": "stdout",
          "text": [
            "Epoch 1/100\n",
            "3/3 [==============================] - 4s 216ms/step - loss: 0.0792 - val_loss: 0.3733\n",
            "Epoch 2/100\n",
            "3/3 [==============================] - 0s 36ms/step - loss: 0.0493 - val_loss: 0.2498\n",
            "Epoch 3/100\n",
            "3/3 [==============================] - 0s 35ms/step - loss: 0.0241 - val_loss: 0.1336\n",
            "Epoch 4/100\n",
            "3/3 [==============================] - 0s 35ms/step - loss: 0.0117 - val_loss: 0.0515\n",
            "Epoch 5/100\n",
            "3/3 [==============================] - 0s 45ms/step - loss: 0.0151 - val_loss: 0.0355\n",
            "Epoch 6/100\n",
            "3/3 [==============================] - 0s 34ms/step - loss: 0.0151 - val_loss: 0.0488\n",
            "Epoch 7/100\n",
            "3/3 [==============================] - 0s 36ms/step - loss: 0.0101 - val_loss: 0.0721\n",
            "Epoch 8/100\n",
            "3/3 [==============================] - 0s 35ms/step - loss: 0.0090 - val_loss: 0.0879\n",
            "Epoch 9/100\n",
            "3/3 [==============================] - 0s 36ms/step - loss: 0.0097 - val_loss: 0.0901\n",
            "Epoch 10/100\n",
            "3/3 [==============================] - 0s 35ms/step - loss: 0.0095 - val_loss: 0.0794\n",
            "Epoch 11/100\n",
            "3/3 [==============================] - 0s 36ms/step - loss: 0.0080 - val_loss: 0.0607\n",
            "Epoch 12/100\n",
            "3/3 [==============================] - 0s 36ms/step - loss: 0.0068 - val_loss: 0.0435\n",
            "Epoch 13/100\n",
            "3/3 [==============================] - 0s 38ms/step - loss: 0.0068 - val_loss: 0.0335\n",
            "Epoch 14/100\n",
            "3/3 [==============================] - 0s 35ms/step - loss: 0.0066 - val_loss: 0.0316\n",
            "Epoch 15/100\n",
            "3/3 [==============================] - 0s 39ms/step - loss: 0.0057 - val_loss: 0.0336\n",
            "Epoch 16/100\n",
            "3/3 [==============================] - 0s 36ms/step - loss: 0.0052 - val_loss: 0.0341\n",
            "Epoch 17/100\n",
            "3/3 [==============================] - 0s 36ms/step - loss: 0.0055 - val_loss: 0.0309\n",
            "Epoch 18/100\n",
            "3/3 [==============================] - 0s 36ms/step - loss: 0.0049 - val_loss: 0.0272\n",
            "Epoch 19/100\n",
            "3/3 [==============================] - 0s 45ms/step - loss: 0.0046 - val_loss: 0.0237\n",
            "Epoch 20/100\n",
            "3/3 [==============================] - 0s 36ms/step - loss: 0.0048 - val_loss: 0.0235\n",
            "Epoch 21/100\n",
            "3/3 [==============================] - 0s 35ms/step - loss: 0.0049 - val_loss: 0.0248\n",
            "Epoch 22/100\n",
            "3/3 [==============================] - 0s 33ms/step - loss: 0.0050 - val_loss: 0.0243\n",
            "Epoch 23/100\n",
            "3/3 [==============================] - 0s 39ms/step - loss: 0.0049 - val_loss: 0.0235\n",
            "Epoch 24/100\n",
            "3/3 [==============================] - 0s 36ms/step - loss: 0.0048 - val_loss: 0.0237\n",
            "Epoch 25/100\n",
            "3/3 [==============================] - 0s 43ms/step - loss: 0.0045 - val_loss: 0.0247\n",
            "Epoch 26/100\n",
            "3/3 [==============================] - 0s 35ms/step - loss: 0.0050 - val_loss: 0.0254\n",
            "Epoch 27/100\n",
            "3/3 [==============================] - 0s 35ms/step - loss: 0.0050 - val_loss: 0.0247\n",
            "Epoch 28/100\n",
            "3/3 [==============================] - 0s 38ms/step - loss: 0.0044 - val_loss: 0.0252\n",
            "Epoch 29/100\n",
            "3/3 [==============================] - 0s 34ms/step - loss: 0.0045 - val_loss: 0.0255\n",
            "Epoch 30/100\n",
            "3/3 [==============================] - 0s 38ms/step - loss: 0.0043 - val_loss: 0.0251\n",
            "Epoch 31/100\n",
            "3/3 [==============================] - 0s 37ms/step - loss: 0.0043 - val_loss: 0.0245\n",
            "Epoch 32/100\n",
            "3/3 [==============================] - 0s 42ms/step - loss: 0.0047 - val_loss: 0.0245\n",
            "Epoch 33/100\n",
            "3/3 [==============================] - 0s 37ms/step - loss: 0.0048 - val_loss: 0.0253\n"
          ]
        },
        {
          "output_type": "execute_result",
          "data": {
            "text/plain": [
              "<keras.src.callbacks.History at 0x7e6826cd85b0>"
            ]
          },
          "metadata": {},
          "execution_count": 27
        }
      ]
    },
    {
      "cell_type": "code",
      "source": [
        "lstm_loss = lstm_model.evaluate(X_test, y_test)\n",
        "gru_loss = gru_model.evaluate(X_test, y_test)"
      ],
      "metadata": {
        "colab": {
          "base_uri": "https://localhost:8080/"
        },
        "id": "XgXSJaHgglPX",
        "outputId": "cd3d2d95-2d81-4e5c-b5a0-971cb8116408"
      },
      "execution_count": 28,
      "outputs": [
        {
          "output_type": "stream",
          "name": "stdout",
          "text": [
            "1/1 [==============================] - 0s 44ms/step - loss: 0.0212\n",
            "1/1 [==============================] - 0s 41ms/step - loss: 0.0235\n"
          ]
        }
      ]
    },
    {
      "cell_type": "code",
      "source": [
        "print(f'LSTM Model Loss: {lstm_loss}')\n",
        "print(f'GRU Model Loss: {gru_loss}')"
      ],
      "metadata": {
        "colab": {
          "base_uri": "https://localhost:8080/"
        },
        "id": "xRi8fUXTgnqG",
        "outputId": "a4db84af-1826-43bc-a5e0-b35c03df60e0"
      },
      "execution_count": 29,
      "outputs": [
        {
          "output_type": "stream",
          "name": "stdout",
          "text": [
            "LSTM Model Loss: 0.0212082639336586\n",
            "GRU Model Loss: 0.02345353737473488\n"
          ]
        }
      ]
    },
    {
      "cell_type": "code",
      "source": [
        "lstm_predictions = lstm_model.predict(X_test)\n",
        "gru_predictions = gru_model.predict(X_test)"
      ],
      "metadata": {
        "colab": {
          "base_uri": "https://localhost:8080/"
        },
        "id": "EVMqsoXogK8m",
        "outputId": "9fd09a22-2677-42ba-c9c2-2599c57e5d53"
      },
      "execution_count": 30,
      "outputs": [
        {
          "output_type": "stream",
          "name": "stdout",
          "text": [
            "1/1 [==============================] - 0s 438ms/step\n",
            "1/1 [==============================] - 0s 486ms/step\n"
          ]
        }
      ]
    },
    {
      "cell_type": "code",
      "source": [
        "lstm_predictions = scaler.inverse_transform(lstm_predictions)\n",
        "gru_predictions = scaler.inverse_transform(gru_predictions)"
      ],
      "metadata": {
        "id": "WKk_MyOUgqeG"
      },
      "execution_count": 31,
      "outputs": []
    },
    {
      "cell_type": "code",
      "source": [
        "plt.figure(figsize=(12, 6))\n",
        "plt.plot(data['passengers'].index[train_size+seq_length:], data['passengers'][train_size+seq_length:], label='True Values')\n",
        "plt.plot(data['passengers'].index[train_size+seq_length:], lstm_predictions, label='LSTM Predictions')\n",
        "plt.plot(data['passengers'].index[train_size+seq_length:], gru_predictions, label='GRU Predictions')\n",
        "plt.legend()\n",
        "plt.title('Passenger Forecasting with LSTM and GRU')\n",
        "plt.xlabel('Year')\n",
        "plt.ylabel('Passengers')\n",
        "plt.show()"
      ],
      "metadata": {
        "colab": {
          "base_uri": "https://localhost:8080/",
          "height": 564
        },
        "id": "BIN2AWCogta-",
        "outputId": "5c00cc44-4ba3-4ca4-ea86-bf7e296c4994"
      },
      "execution_count": 32,
      "outputs": [
        {
          "output_type": "display_data",
          "data": {
            "text/plain": [
              "<Figure size 1200x600 with 1 Axes>"
            ],
            "image/png": "[encoded data removed]"
          },
          "metadata": {}
        }
      ]
    }
  ]
}